{
 "cells": [
  {
   "cell_type": "code",
   "execution_count": 1,
   "metadata": {},
   "outputs": [],
   "source": [
    "import numpy as np\n",
    "import cv2\n",
    "from scipy.ndimage import center_of_mass"
   ]
  },
  {
   "cell_type": "code",
   "execution_count": 2,
   "metadata": {},
   "outputs": [],
   "source": [
    "ORANGE_AREA_DEPTH = 230\n",
    "ORANGE_AREA_HEIGHT_PX = 72\n",
    "ORANGE_AREA_HEIGHT_ACTUAL = 0.36"
   ]
  },
  {
   "cell_type": "code",
   "execution_count": 5,
   "metadata": {},
   "outputs": [
    {
     "name": "stdout",
     "output_type": "stream",
     "text": [
      "[[  0.        0.        0.      ...   0.        0.        0.     ]\n",
      " [  0.        0.        0.      ...   0.        0.        0.     ]\n",
      " [  0.        0.        0.      ...   0.        0.        0.     ]\n",
      " ...\n",
      " [252.15005 252.07951 252.00899 ... 183.76816 183.49728 183.22647]\n",
      " [251.98883 251.98016 251.97147 ... 183.94276 183.92487 183.907  ]\n",
      " [251.8276  251.8808  251.93398 ... 184.1174  184.35251 184.5876 ]]\n"
     ]
    }
   ],
   "source": [
    "print(depth)"
   ]
  },
  {
   "cell_type": "code",
   "execution_count": 7,
   "metadata": {},
   "outputs": [
    {
     "name": "stdout",
     "output_type": "stream",
     "text": [
      "(1080, 1920)\n"
     ]
    }
   ],
   "source": [
    "print(depth.shape)"
   ]
  },
  {
   "cell_type": "code",
   "execution_count": 3,
   "metadata": {},
   "outputs": [
    {
     "name": "stdout",
     "output_type": "stream",
     "text": [
      "Vessel center: (1312.809682878052, 623.4211370678856)\n",
      "Vessel height (pixels): 135\n",
      "Combined heatmap with original image saved to: ./vessel_heatmap_combined_with_original.png\n"
     ]
    }
   ],
   "source": [
    "import cv2\n",
    "import numpy as np\n",
    "from scipy.ndimage import center_of_mass\n",
    "\n",
    "# Load the saved arrays\n",
    "vessel_mask = np.load('./outputs/2024_1126_143639F_trimmed/object_detection/mask_arrays/2024_1126_143639F_trimmed_mask_array_id_1_frame_355.npy')\n",
    "depth = np.load('./outputs/2024_1126_143639F_trimmed/depth_estimation/depth_arrays/2024_1126_143639F_trimmed_depth_array_id_1_frame_355.npy')\n",
    "\n",
    "# Load the original image\n",
    "img = cv2.imread('outputs/2024_1126_143639F_trimmed/tracked_vessels/2024_1126_143639F_trimmed_vessel_detected_shot_id_1_frame_355.png')\n",
    "\n",
    "# Measure the height in pixels\n",
    "rows, _ = np.where(vessel_mask > 0)\n",
    "vessel_height_px = np.max(rows) - np.min(rows)\n",
    "\n",
    "# Find the center of the boat\n",
    "center_y, center_x = center_of_mass(vessel_mask)  # Center in (y, x) format\n",
    "\n",
    "print(f\"Vessel center: ({center_x}, {center_y})\")\n",
    "print(f\"Vessel height (pixels): {vessel_height_px}\")\n",
    "\n",
    "# Normalize depth map\n",
    "depth_normalized = (depth - depth.min()) / (depth.max() - depth.min()) * 255\n",
    "depth_colored = cv2.applyColorMap(depth_normalized.astype(np.uint8), cv2.COLORMAP_JET)\n",
    "\n",
    "# Create an overlay with the mask\n",
    "mask_overlay = cv2.addWeighted(depth_colored, 0.4, cv2.cvtColor((vessel_mask * 255).astype(np.uint8), cv2.COLOR_GRAY2BGR), 0.6, 0)\n",
    "\n",
    "# Create an overlay with the original image (no mask)\n",
    "image_overlay = cv2.addWeighted(img, 0.6, depth_colored, 0.4, 0)\n",
    "\n",
    "# Combine the heatmap, mask overlay, and image overlay side-by-side\n",
    "combined_image = cv2.hconcat([depth_colored, mask_overlay, image_overlay])\n",
    "\n",
    "# Save the combined image\n",
    "output_path = './vessel_heatmap_combined_with_original.png'\n",
    "cv2.imwrite(output_path, combined_image)\n",
    "\n",
    "print(f\"Combined heatmap with original image saved to: {output_path}\")\n"
   ]
  },
  {
   "cell_type": "code",
   "execution_count": 55,
   "metadata": {},
   "outputs": [
    {
     "name": "stdout",
     "output_type": "stream",
     "text": [
      "Depth of boat at center: 36.0540771484375\n",
      "Depth of boat (average): 33.78672790527344\n"
     ]
    }
   ],
   "source": [
    "# Convert boat_mask to boolean\n",
    "vessel_mask_boolean = vessel_mask > 0  # Ensure the mask is boolean (True/False)\n",
    "\n",
    "# Calculate rows_with_mask using the original mask\n",
    "rows_with_mask = np.any(vessel_mask_boolean, axis=1)\n",
    "\n",
    "# Get the depth values corresponding to the mask\n",
    "vessel_depth_values = depth_normalized[rows_with_mask, :]\n",
    "vessel_depth_average = vessel_depth_values[vessel_mask_boolean[rows_with_mask, :]].mean()\n",
    "\n",
    "# Get the depth at the boat center\n",
    "vessel_center_depth = depth_normalized[int(center_y), int(center_x)]\n",
    "\n",
    "print(f\"Depth of boat at center: {vessel_center_depth}\")\n",
    "print(f\"Depth of boat (average): {vessel_depth_average}\")"
   ]
  },
  {
   "cell_type": "code",
   "execution_count": 49,
   "metadata": {},
   "outputs": [
    {
     "name": "stdout",
     "output_type": "stream",
     "text": [
      "Estimated Vessel Height: 4.306031724534882\n"
     ]
    }
   ],
   "source": [
    "# Formula -> vessel_height_actual = vessel_height_px * (oa_height_actual/oa_height_px) * (oa_depth/vessel_depth)\n",
    "oa_height_actual = ORANGE_AREA_HEIGHT_ACTUAL\n",
    "oa_height_px = ORANGE_AREA_HEIGHT_PX\n",
    "oa_depth = ORANGE_AREA_DEPTH\n",
    "vessel_depth = vessel_center_depth\n",
    "vessel_height_px = vessel_height_px\n",
    "vessel_height_actual = vessel_height_px * (oa_height_actual/oa_height_px) * (oa_depth/vessel_depth)\n",
    "print(f\"Estimated Vessel Height: {vessel_height_actual}\")"
   ]
  }
 ],
 "metadata": {
  "kernelspec": {
   "display_name": "vhe_venv",
   "language": "python",
   "name": "python3"
  },
  "language_info": {
   "codemirror_mode": {
    "name": "ipython",
    "version": 3
   },
   "file_extension": ".py",
   "mimetype": "text/x-python",
   "name": "python",
   "nbconvert_exporter": "python",
   "pygments_lexer": "ipython3",
   "version": "3.12.8"
  }
 },
 "nbformat": 4,
 "nbformat_minor": 2
}
