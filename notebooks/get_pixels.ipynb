{
 "cells": [
  {
   "cell_type": "markdown",
   "metadata": {},
   "source": [
    "##### Calculation of Ruler's Depth and Height"
   ]
  },
  {
   "cell_type": "code",
   "execution_count": 27,
   "metadata": {},
   "outputs": [],
   "source": [
    "import cv2\n",
    "\n",
    "# Initialize a list to store the coordinates\n",
    "coordinates = []\n",
    "\n",
    "def get_coordinates(event, x, y, flags, param):\n",
    "    if event == cv2.EVENT_LBUTTONDOWN:\n",
    "        # Store the coordinates\n",
    "        coordinates.append((x, y))\n",
    "        print(f\"Mouse clicked at: ({x}, {y})\")\n"
   ]
  },
  {
   "cell_type": "markdown",
   "metadata": {},
   "source": [
    "##### Height"
   ]
  },
  {
   "cell_type": "code",
   "execution_count": 28,
   "metadata": {},
   "outputs": [],
   "source": [
    "import cv2\n",
    "import numpy as np\n",
    "\n",
    "# Path to the input video file\n",
    "video_path = 'data/videos/2024_1126_143639F_trimmed.mp4'\n",
    "\n",
    "# Specify the rotation angle in degrees (counterclockwise)\n",
    "rotation_angle = 2.5 # Replace with desired angle\n",
    "\n",
    "# Initialize video capture\n",
    "cap = cv2.VideoCapture(video_path)\n",
    "\n",
    "# Check if video opened successfully\n",
    "if not cap.isOpened():\n",
    "    print(\"Error: Could not open video.\")\n",
    "    exit()\n",
    "\n",
    "# Create a window and set the mouse callback function\n",
    "cv2.namedWindow('Video Frame')\n",
    "cv2.setMouseCallback('Video Frame', get_coordinates)  # Uncomment if you want to use a callback function\n",
    "\n",
    "# Get video frame dimensions\n",
    "frame_width = int(cap.get(cv2.CAP_PROP_FRAME_WIDTH))\n",
    "frame_height = int(cap.get(cv2.CAP_PROP_FRAME_HEIGHT))\n",
    "\n",
    "# Calculate the center of the frame for rotation\n",
    "center = (frame_width // 2, frame_height // 2)\n",
    "\n",
    "# Compute the rotation matrix\n",
    "rotation_matrix = cv2.getRotationMatrix2D(center, rotation_angle, 1.0)\n",
    "\n",
    "# Determine the new bounding dimensions of the frame after rotation\n",
    "cos = abs(rotation_matrix[0, 0])\n",
    "sin = abs(rotation_matrix[0, 1])\n",
    "new_width = int((frame_height * sin) + (frame_width * cos))\n",
    "new_height = int((frame_height * cos) + (frame_width * sin))\n",
    "\n",
    "# Adjust the rotation matrix to account for translation\n",
    "rotation_matrix[0, 2] += (new_width / 2) - center[0]\n",
    "rotation_matrix[1, 2] += (new_height / 2) - center[1]\n",
    "\n",
    "while cap.isOpened():\n",
    "    ret, frame = cap.read()\n",
    "    if not ret:\n",
    "        break\n",
    "\n",
    "    # Rotate the frame\n",
    "    rotated_frame = cv2.warpAffine(frame, rotation_matrix, (new_width, new_height))\n",
    "\n",
    "    # Display the rotated frame\n",
    "    cv2.imshow('Video Frame', rotated_frame)\n",
    "\n",
    "    # Wait for a key press; exit if 'q' is pressed\n",
    "    if cv2.waitKey(30) & 0xFF == ord('q'):\n",
    "        break\n",
    "\n",
    "# Release video capture and close windows\n",
    "cap.release()\n",
    "cv2.destroyAllWindows()\n"
   ]
  },
  {
   "cell_type": "markdown",
   "metadata": {},
   "source": [
    "##### Depth"
   ]
  },
  {
   "cell_type": "code",
   "execution_count": null,
   "metadata": {},
   "outputs": [],
   "source": []
  }
 ],
 "metadata": {
  "kernelspec": {
   "display_name": "vhe_venv",
   "language": "python",
   "name": "python3"
  },
  "language_info": {
   "codemirror_mode": {
    "name": "ipython",
    "version": 3
   },
   "file_extension": ".py",
   "mimetype": "text/x-python",
   "name": "python",
   "nbconvert_exporter": "python",
   "pygments_lexer": "ipython3",
   "version": "3.12.8"
  }
 },
 "nbformat": 4,
 "nbformat_minor": 2
}
