{
 "cells": [
  {
   "cell_type": "code",
   "execution_count": 12,
   "metadata": {},
   "outputs": [],
   "source": [
    "from moviepy import VideoFileClip"
   ]
  },
  {
   "cell_type": "code",
   "execution_count": 13,
   "metadata": {},
   "outputs": [],
   "source": [
    "def mmss_to_seconds(time_str):\n",
    "    \"\"\"Convert a time string 'MM:SS' to total seconds.\"\"\"\n",
    "    minutes, seconds = map(int, time_str.split(':'))\n",
    "    return minutes * 60 + seconds"
   ]
  },
  {
   "cell_type": "code",
   "execution_count": 14,
   "metadata": {},
   "outputs": [],
   "source": [
    "# Input OG Video\n",
    "video_filename = \"2024_1126_143639F.MP4\""
   ]
  },
  {
   "cell_type": "code",
   "execution_count": 16,
   "metadata": {},
   "outputs": [
    {
     "name": "stderr",
     "output_type": "stream",
     "text": [
      "frame_index:   0%|          | 2/2430 [00:27<9:07:13, 13.52s/it, now=None]"
     ]
    },
    {
     "name": "stdout",
     "output_type": "stream",
     "text": [
      "MoviePy - Building video data/segmented_test_2024_1126_143639F.MP4.\n",
      "MoviePy - Writing audio in segmented_test_2024_1126_143639FTEMP_MPY_wvf_snd.mp3\n"
     ]
    },
    {
     "name": "stderr",
     "output_type": "stream",
     "text": [
      "frame_index:   0%|          | 2/2430 [00:27<9:18:06, 13.79s/it, now=None]"
     ]
    },
    {
     "name": "stdout",
     "output_type": "stream",
     "text": [
      "MoviePy - Done.\n",
      "MoviePy - Writing video data/segmented_test_2024_1126_143639F.MP4\n",
      "\n"
     ]
    },
    {
     "name": "stderr",
     "output_type": "stream",
     "text": [
      "frame_index:   0%|          | 2/2430 [00:56<18:58:22, 28.13s/it, now=None]"
     ]
    },
    {
     "name": "stdout",
     "output_type": "stream",
     "text": [
      "MoviePy - Done !\n",
      "MoviePy - video ready data/segmented_test_2024_1126_143639F.MP4\n"
     ]
    }
   ],
   "source": [
    "# Define start and end times in 'MM:SS' format\n",
    "start_time_str = \"05:33\"\n",
    "end_time_str = \"06:54\"\n",
    "\n",
    "# Convert 'MM:SS' to seconds\n",
    "start_time = mmss_to_seconds(start_time_str)\n",
    "end_time = mmss_to_seconds(end_time_str)\n",
    "\n",
    "# Load the video file\n",
    "subclip = VideoFileClip(f\"data/{video_filename}\").subclipped(start_time, end_time)\n",
    "\n",
    "# Write the result to a file\n",
    "subclip.write_videofile(f\"data/videos/{video_filename}_trimmed\", codec=\"libx264\")"
   ]
  }
 ],
 "metadata": {
  "kernelspec": {
   "display_name": "vhe_venv",
   "language": "python",
   "name": "python3"
  },
  "language_info": {
   "codemirror_mode": {
    "name": "ipython",
    "version": 3
   },
   "file_extension": ".py",
   "mimetype": "text/x-python",
   "name": "python",
   "nbconvert_exporter": "python",
   "pygments_lexer": "ipython3",
   "version": "3.12.8"
  }
 },
 "nbformat": 4,
 "nbformat_minor": 2
}
